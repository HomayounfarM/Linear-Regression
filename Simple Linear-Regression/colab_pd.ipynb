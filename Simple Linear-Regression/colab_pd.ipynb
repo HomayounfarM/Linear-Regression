{
 "cells": [
  {
   "cell_type": "markdown",
   "metadata": {
    "colab_type": "text",
    "id": "view-in-github"
   },
   "source": [
    "<a href=\"https://colab.research.google.com/github/HomayounfarM/Linear-Regression/blob/main/Simple%20Linear-Regression/colab_pd.ipynb\" target=\"_parent\"><img src=\"https://colab.research.google.com/assets/colab-badge.svg\" alt=\"Open In Colab\"/></a>"
   ]
  },
  {
   "cell_type": "markdown",
   "metadata": {
    "id": "w7JTdCeCL6Si"
   },
   "source": [
    "https://github.com/HomayounfarM/Regression"
   ]
  },
  {
   "cell_type": "markdown",
   "metadata": {},
   "source": [
    "## Problem Statement\n",
    "\n",
    "This is a simple linear regression between two continuous variables (years of experience and salary).\n",
    "\n"
   ]
  },
  {
   "cell_type": "code",
   "execution_count": 2,
   "metadata": {
    "colab": {
     "base_uri": "https://localhost:8080/",
     "height": 345
    },
    "id": "2RMF1tTevr_2",
    "outputId": "a443540b-1150-470f-e989-601ecd208f15"
   },
   "outputs": [],
   "source": [
    "import ssl\n",
    "ssl._create_default_https_context = ssl._create_unverified_context\n",
    "import pandas as pd\n",
    "url = \"https://raw.githubusercontent.com/HomayounfarM/Linear-Regression/main/Simple%20Linear-Regression/Salary_Data.csv\"\n",
    "dataset = pd.read_csv(url)"
   ]
  },
  {
   "cell_type": "code",
   "execution_count": 3,
   "metadata": {
    "id": "bnyTP--zwfpv"
   },
   "outputs": [],
   "source": [
    "# Importing the libraries\n",
    "\n",
    "import pandas as pd\n",
    "import numpy as np\n",
    "import matplotlib.pyplot as plt\n",
    "from numpy import nan"
   ]
  },
  {
   "cell_type": "code",
   "execution_count": 4,
   "metadata": {
    "id": "pyCnef-zw8Pn"
   },
   "outputs": [],
   "source": [
    "# Importing the dataset\n",
    "\n",
    "x = dataset.iloc[:, 0]\n",
    "\n",
    "y = dataset.iloc[:,1]"
   ]
  },
  {
   "cell_type": "code",
   "execution_count": 5,
   "metadata": {
    "id": "fO28b0r-xB0l"
   },
   "outputs": [
    {
     "data": {
      "text/plain": [
       "\"from sklearn.impute import SimpleImputer\\nx_dummy = dataset.iloc[:, [1,2]]\\nimputer = SimpleImputer(missing_values = nan, strategy = 'mean')\\ntransformed_values = imputer.fit_transform(x_dummy)\\nx.iloc[:, [1,2]] = transformed_values\""
      ]
     },
     "execution_count": 5,
     "metadata": {},
     "output_type": "execute_result"
    }
   ],
   "source": [
    "# Taking care of missing data\n",
    "\"\"\"x.fillna(x.mean(), inplace=True)\"\"\"\n",
    "\n",
    "\n",
    "# Replacing missing values with a constant (10)\n",
    "\"\"\"#x.iloc[:,[1,2]] = x.iloc[:,[1,2]].replace(nan,10)\"\"\"\n",
    "\n",
    "# Using sklearn.impute to take care of the missing data\n",
    "\"\"\"from sklearn.impute import SimpleImputer\n",
    "x_dummy = dataset.iloc[:, [1,2]]\n",
    "imputer = SimpleImputer(missing_values = nan, strategy = 'mean')\n",
    "transformed_values = imputer.fit_transform(x_dummy)\n",
    "x.iloc[:, [1,2]] = transformed_values\"\"\""
   ]
  },
  {
   "cell_type": "code",
   "execution_count": 6,
   "metadata": {
    "id": "oaapZ7tBxOxY"
   },
   "outputs": [
    {
     "data": {
      "text/plain": [
       "\"from sklearn.preprocessing import LabelEncoder, OneHotEncoder\\nlabelencoder_x = LabelEncoder()\\n#x.iloc[:,0] = labelencoder_x.fit_transform(x.iloc[:,0])\\nonehotencoder = OneHotEncoder()\\ntransformed = onehotencoder.fit_transform(x[['Country']]).toarray()\\nx[['France', 'Spain', 'Germany']] = transformed\\nx = x.iloc[:,[1,2,3,4,5]]\\nlabelencoder_y = LabelEncoder()\\ny.iloc[:] = labelencoder_y.fit_transform(y.iloc[:])\""
      ]
     },
     "execution_count": 6,
     "metadata": {},
     "output_type": "execute_result"
    }
   ],
   "source": [
    "# Encoding categorical variable\n",
    "\"\"\"from sklearn.preprocessing import LabelEncoder, OneHotEncoder\n",
    "labelencoder_x = LabelEncoder()\n",
    "#x.iloc[:,0] = labelencoder_x.fit_transform(x.iloc[:,0])\n",
    "onehotencoder = OneHotEncoder()\n",
    "transformed = onehotencoder.fit_transform(x[['Country']]).toarray()\n",
    "x[['France', 'Spain', 'Germany']] = transformed\n",
    "x = x.iloc[:,[1,2,3,4,5]]\n",
    "labelencoder_y = LabelEncoder()\n",
    "y.iloc[:] = labelencoder_y.fit_transform(y.iloc[:])\"\"\""
   ]
  },
  {
   "cell_type": "code",
   "execution_count": 7,
   "metadata": {
    "colab": {
     "base_uri": "https://localhost:8080/",
     "height": 36
    },
    "id": "rL6yB11rxUKn",
    "outputId": "91b2f5ed-782c-479a-db76-88cda6c8632e"
   },
   "outputs": [
    {
     "data": {
      "text/plain": [
       "'# Splitting the dataset to the training set and test set using NUMPY and mask\\n#mask = np.random.rand(len(y)) <= 0.6\\n#x_train = x[mask]\\n#x_test = x[~mask]'"
      ]
     },
     "execution_count": 7,
     "metadata": {},
     "output_type": "execute_result"
    }
   ],
   "source": [
    "# Splitting the dataset to the training set and test set\n",
    "from sklearn.model_selection import train_test_split\n",
    "x_train, x_test, y_train, y_test = train_test_split(x, y, test_size = 1/3, random_state=0)\n",
    "x_train = pd.DataFrame(x_train)\n",
    "y_train = pd.DataFrame(y_train)\n",
    "x_test = pd.DataFrame(x_test)\n",
    "y_test = pd.DataFrame(y_test)\n",
    "\n",
    "\"\"\"# Splitting the dataset to the training set and test set using NUMPY and mask\n",
    "#mask = np.random.rand(len(y)) <= 0.6\n",
    "#x_train = x[mask]\n",
    "#x_test = x[~mask]\"\"\""
   ]
  },
  {
   "cell_type": "code",
   "execution_count": 8,
   "metadata": {
    "id": "pDq96nrCxZRn"
   },
   "outputs": [
    {
     "data": {
      "text/plain": [
       "'from sklearn.preprocessing import StandardScaler\\nsc_x = StandardScaler()\\nx_train.iloc[:,[0,1]] = sc_x.fit_transform(x_train.iloc[:,[0,1]])\\nx_test.iloc[:,[0,1]] = sc_x.fit_transform(x_test.iloc[:,[0,1]])'"
      ]
     },
     "execution_count": 8,
     "metadata": {},
     "output_type": "execute_result"
    }
   ],
   "source": [
    "# feature scaling\n",
    "\"\"\"from sklearn.preprocessing import StandardScaler\n",
    "sc_x = StandardScaler()\n",
    "x_train.iloc[:,[0,1]] = sc_x.fit_transform(x_train.iloc[:,[0,1]])\n",
    "x_test.iloc[:,[0,1]] = sc_x.fit_transform(x_test.iloc[:,[0,1]])\"\"\""
   ]
  },
  {
   "cell_type": "code",
   "execution_count": 9,
   "metadata": {
    "colab": {
     "base_uri": "https://localhost:8080/"
    },
    "id": "oytr9iJJxbd-",
    "outputId": "09dd07e4-2391-42d7-ffca-cfb3ef35d242"
   },
   "outputs": [
    {
     "name": "stdout",
     "output_type": "stream",
     "text": [
      "Coefficient of determination: 0.9381900012894278\n",
      "[[9345.94244312]]\n",
      "[26816.19224403]\n",
      "[[961410.43655627]]\n"
     ]
    },
    {
     "name": "stderr",
     "output_type": "stream",
     "text": [
      "C:\\Users\\mehra\\anaconda3\\lib\\site-packages\\sklearn\\base.py:450: UserWarning: X does not have valid feature names, but LinearRegression was fitted with feature names\n",
      "  warnings.warn(\n"
     ]
    }
   ],
   "source": [
    "# Fitting Simple Linear Regression to the Trainig Set\n",
    "from sklearn.linear_model import LinearRegression\n",
    "regressor = LinearRegression()\n",
    "\n",
    "reg = regressor.fit(x_train, y_train)\n",
    "\n",
    "print(f'Coefficient of determination: {reg.score(x_train, y_train)}')\n",
    "print(reg.coef_)\n",
    "print(reg.intercept_)\n",
    "print(reg.predict(np.array([[100]])))"
   ]
  },
  {
   "cell_type": "code",
   "execution_count": 10,
   "metadata": {
    "colab": {
     "base_uri": "https://localhost:8080/",
     "height": 265
    },
    "id": "IY5cjw7_xgfW",
    "outputId": "5c3e0513-b1ac-4ad6-e4f9-9a40f03ab8ff"
   },
   "outputs": [
    {
     "data": {
      "image/png": "[encoded data removed]",
      "text/plain": [
       "<Figure size 432x288 with 1 Axes>"
      ]
     },
     "metadata": {
      "needs_background": "light"
     },
     "output_type": "display_data"
    }
   ],
   "source": [
    "# Predictign the test set results\n",
    "\n",
    "y_pred = pd.DataFrame(regressor.predict(x_test))\n",
    "\n",
    "# Visualizing the trainig set result\n",
    "y_pred = pd.DataFrame(regressor.predict(x_train))\n",
    "\n",
    "plt.scatter(x_test, y_test, color = 'red')\n",
    "plt.plot(x_train['YearsExperience'], y_pred[0], color = 'blue')\n",
    "\n",
    "plt.show()"
   ]
  },
  {
   "cell_type": "code",
   "execution_count": null,
   "metadata": {},
   "outputs": [],
   "source": []
  }
 ],
 "metadata": {
  "colab": {
   "authorship_tag": "ABX9TyOj6UENN4NLtvJQLCjxyTgx",
   "collapsed_sections": [],
   "include_colab_link": true,
   "name": "colab_pd.ipynb",
   "provenance": []
  },
  "kernelspec": {
   "display_name": "Python 3 (ipykernel)",
   "language": "python",
   "name": "python3"
  },
  "language_info": {
   "codemirror_mode": {
    "name": "ipython",
    "version": 3
   },
   "file_extension": ".py",
   "mimetype": "text/x-python",
   "name": "python",
   "nbconvert_exporter": "python",
   "pygments_lexer": "ipython3",
   "version": "3.9.12"
  }
 },
 "nbformat": 4,
 "nbformat_minor": 1
}
