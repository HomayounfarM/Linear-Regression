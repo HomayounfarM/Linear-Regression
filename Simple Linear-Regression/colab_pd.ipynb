{
  "nbformat": 4,
  "nbformat_minor": 0,
  "metadata": {
    "colab": {
      "name": "colab_pd.ipynb",
      "provenance": [],
      "collapsed_sections": [],
      "authorship_tag": "ABX9TyNuzf8Am/F83zhBOL7HiDgn",
      "include_colab_link": true
    },
    "kernelspec": {
      "name": "python3",
      "display_name": "Python 3"
    },
    "language_info": {
      "name": "python"
    }
  },
  "cells": [
    {
      "cell_type": "markdown",
      "metadata": {
        "id": "view-in-github",
        "colab_type": "text"
      },
      "source": [
        "<a href=\"https://colab.research.google.com/github/HomayounfarM/Regression/blob/main/colab_pd.ipynb\" target=\"_parent\"><img src=\"https://colab.research.google.com/assets/colab-badge.svg\" alt=\"Open In Colab\"/></a>"
      ]
    },
    {
      "cell_type": "markdown",
      "source": [
        "https://github.com/HomayounfarM/Regression"
      ],
      "metadata": {
        "id": "w7JTdCeCL6Si"
      }
    },
    {
      "cell_type": "code",
      "source": [
        "import ssl\n",
        "ssl._create_default_https_context = ssl._create_unverified_context\n",
        "import pandas as pd\n",
        "url = \"https://raw.githubusercontent.com/HomayounfarM/Regression/main/Salary_Data.csv\"\n",
        "dataset = pd.read_csv(url)"
      ],
      "metadata": {
        "id": "2RMF1tTevr_2"
      },
      "execution_count": 16,
      "outputs": []
    },
    {
      "cell_type": "code",
      "source": [
        "# Importing the libraries\n",
        "\n",
        "import pandas as pd\n",
        "import numpy as np\n",
        "import matplotlib.pyplot as plt\n",
        "from numpy import nan"
      ],
      "metadata": {
        "id": "bnyTP--zwfpv"
      },
      "execution_count": 18,
      "outputs": []
    },
    {
      "cell_type": "code",
      "source": [
        "# Importing the dataset\n",
        "\n",
        "x = dataset.iloc[:, 0]\n",
        "\n",
        "y = dataset.iloc[:,1]"
      ],
      "metadata": {
        "id": "pyCnef-zw8Pn"
      },
      "execution_count": 19,
      "outputs": []
    },
    {
      "cell_type": "code",
      "source": [
        "# Taking care of missing data\n",
        "\"\"\"x.fillna(x.mean(), inplace=True)\"\"\"\n",
        "\n",
        "\n",
        "# Replacing missing values with a constant (10)\n",
        "\"\"\"#x.iloc[:,[1,2]] = x.iloc[:,[1,2]].replace(nan,10)\"\"\"\n",
        "\n",
        "# Using sklearn.impute to take care of the missing data\n",
        "\"\"\"from sklearn.impute import SimpleImputer\n",
        "x_dummy = dataset.iloc[:, [1,2]]\n",
        "imputer = SimpleImputer(missing_values = nan, strategy = 'mean')\n",
        "transformed_values = imputer.fit_transform(x_dummy)\n",
        "x.iloc[:, [1,2]] = transformed_values\"\"\""
      ],
      "metadata": {
        "id": "fO28b0r-xB0l"
      },
      "execution_count": null,
      "outputs": []
    },
    {
      "cell_type": "code",
      "source": [
        "# Encoding categorical variable\n",
        "\"\"\"from sklearn.preprocessing import LabelEncoder, OneHotEncoder\n",
        "labelencoder_x = LabelEncoder()\n",
        "#x.iloc[:,0] = labelencoder_x.fit_transform(x.iloc[:,0])\n",
        "onehotencoder = OneHotEncoder()\n",
        "transformed = onehotencoder.fit_transform(x[['Country']]).toarray()\n",
        "x[['France', 'Spain', 'Germany']] = transformed\n",
        "x = x.iloc[:,[1,2,3,4,5]]\n",
        "labelencoder_y = LabelEncoder()\n",
        "y.iloc[:] = labelencoder_y.fit_transform(y.iloc[:])\"\"\""
      ],
      "metadata": {
        "id": "oaapZ7tBxOxY"
      },
      "execution_count": null,
      "outputs": []
    },
    {
      "cell_type": "code",
      "source": [
        "# Splitting the dataset to the training set and test set\n",
        "from sklearn.model_selection import train_test_split\n",
        "x_train, x_test, y_train, y_test = train_test_split(x, y, test_size = 1/3, random_state=0)\n",
        "x_train = pd.DataFrame(x_train)\n",
        "y_train = pd.DataFrame(y_train)\n",
        "x_test = pd.DataFrame(x_test)\n",
        "y_test = pd.DataFrame(y_test)\n",
        "\n",
        "\"\"\"# Splitting the dataset to the training set and test set using NUMPY and mask\n",
        "#mask = np.random.rand(len(y)) <= 0.6\n",
        "#x_train = x[mask]\n",
        "#x_test = x[~mask]\"\"\""
      ],
      "metadata": {
        "colab": {
          "base_uri": "https://localhost:8080/",
          "height": 36
        },
        "id": "rL6yB11rxUKn",
        "outputId": "91b2f5ed-782c-479a-db76-88cda6c8632e"
      },
      "execution_count": 20,
      "outputs": [
        {
          "output_type": "execute_result",
          "data": {
            "text/plain": [
              "'# Splitting the dataset to the training set and test set using NUMPY and mask\\n#mask = np.random.rand(len(y)) <= 0.6\\n#x_train = x[mask]\\n#x_test = x[~mask]'"
            ],
            "application/vnd.google.colaboratory.intrinsic+json": {
              "type": "string"
            }
          },
          "metadata": {},
          "execution_count": 20
        }
      ]
    },
    {
      "cell_type": "code",
      "source": [
        "# feature scaling\n",
        "\"\"\"from sklearn.preprocessing import StandardScaler\n",
        "sc_x = StandardScaler()\n",
        "x_train.iloc[:,[0,1]] = sc_x.fit_transform(x_train.iloc[:,[0,1]])\n",
        "x_test.iloc[:,[0,1]] = sc_x.fit_transform(x_test.iloc[:,[0,1]])\"\"\""
      ],
      "metadata": {
        "id": "pDq96nrCxZRn"
      },
      "execution_count": null,
      "outputs": []
    },
    {
      "cell_type": "code",
      "source": [
        "# Fitting Simple Linear Regression to the Trainig Set\n",
        "from sklearn.linear_model import LinearRegression\n",
        "regressor = LinearRegression()\n",
        "\n",
        "reg = regressor.fit(x_train, y_train)\n",
        "\n",
        "print(f'Coefficient of determination: {reg.score(x_train, y_train)}')\n",
        "print(reg.coef_)\n",
        "print(reg.intercept_)\n",
        "print(reg.predict(np.array([[100]])))"
      ],
      "metadata": {
        "colab": {
          "base_uri": "https://localhost:8080/"
        },
        "id": "oytr9iJJxbd-",
        "outputId": "09dd07e4-2391-42d7-ffca-cfb3ef35d242"
      },
      "execution_count": 21,
      "outputs": [
        {
          "output_type": "stream",
          "name": "stdout",
          "text": [
            "Coefficient of determination: 0.9381900012894278\n",
            "[[9345.94244312]]\n",
            "[26816.19224403]\n",
            "[[961410.43655627]]\n"
          ]
        },
        {
          "output_type": "stream",
          "name": "stderr",
          "text": [
            "/usr/local/lib/python3.7/dist-packages/sklearn/base.py:451: UserWarning: X does not have valid feature names, but LinearRegression was fitted with feature names\n",
            "  \"X does not have valid feature names, but\"\n"
          ]
        }
      ]
    },
    {
      "cell_type": "code",
      "source": [
        "# Predictign the test set results\n",
        "\n",
        "y_pred = pd.DataFrame(regressor.predict(x_test))\n",
        "\n",
        "# Visualizing the trainig set result\n",
        "y_pred = pd.DataFrame(regressor.predict(x_train))\n",
        "\n",
        "plt.scatter(x_test, y_test, color = 'red')\n",
        "plt.plot(x_train['YearsExperience'], y_pred[0], color = 'blue')\n",
        "\n",
        "plt.show()"
      ],
      "metadata": {
        "colab": {
          "base_uri": "https://localhost:8080/",
          "height": 265
        },
        "id": "IY5cjw7_xgfW",
        "outputId": "5c3e0513-b1ac-4ad6-e4f9-9a40f03ab8ff"
      },
      "execution_count": 22,
      "outputs": [
        {
          "output_type": "display_data",
          "data": {
            "text/plain": [
              "<Figure size 432x288 with 1 Axes>"
            ],
            "image/png": "[encoded data removed]"
          },
          "metadata": {
            "needs_background": "light"
          }
        }
      ]
    }
  ]
}