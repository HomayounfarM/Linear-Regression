{
  "nbformat": 4,
  "nbformat_minor": 0,
  "metadata": {
    "colab": {
      "name": "Untitled0.ipynb",
      "private_outputs": true,
      "provenance": [],
      "collapsed_sections": [],
      "authorship_tag": "ABX9TyNyogKdFDqAb5rdW/khQQ6m",
      "include_colab_link": true
    },
    "kernelspec": {
      "name": "python3",
      "display_name": "Python 3"
    },
    "language_info": {
      "name": "python"
    }
  },
  "cells": [
    {
      "cell_type": "markdown",
      "metadata": {
        "id": "view-in-github",
        "colab_type": "text"
      },
      "source": [
        "<a href=\"https://colab.research.google.com/github/HomayounfarM/Linear-Regression/blob/main/Multi%20Linear%20Regression/Colab_Multi_Linear.ipynb\" target=\"_parent\"><img src=\"https://colab.research.google.com/assets/colab-badge.svg\" alt=\"Open In Colab\"/></a>"
      ]
    },
    {
      "cell_type": "markdown",
      "source": [
        "https://github.com/HomayounfarM/Linear-Regression"
      ],
      "metadata": {
        "id": "7Ocv8UrzRMUQ"
      }
    },
    {
      "cell_type": "code",
      "source": [
        "import ssl\n",
        "ssl._create_default_https_context = ssl._create_unverified_context\n",
        "import pandas as pd\n",
        "url = \"https://raw.githubusercontent.com/HomayounfarM/Linear-Regression/main/Multi%20Linear%20Regression/50_Startups.csv\"\n",
        "dataset = pd.read_csv(url)"
      ],
      "metadata": {
        "id": "3t-L6CsRI9yj"
      },
      "execution_count": null,
      "outputs": []
    },
    {
      "cell_type": "code",
      "source": [
        "import numpy as np\n",
        "import matplotlib.pyplot as plt\n",
        "import pandas as pd\n",
        "\n",
        "# Importing the dataset\n",
        "x = dataset.iloc[:, :-1].values\n",
        "y = dataset.iloc[:, 4].values"
      ],
      "metadata": {
        "id": "H1zCbFeMQqSA"
      },
      "execution_count": null,
      "outputs": []
    },
    {
      "cell_type": "code",
      "source": [
        "# Encoding categorical variable\n",
        "from sklearn.preprocessing import LabelEncoder, OneHotEncoder\n",
        "labelencoder_x = LabelEncoder()\n",
        "#x[:,3] = labelencoder_x.fit_transform(x[:,3])\n",
        "onehotencoder = OneHotEncoder()\n",
        "x= np.append(onehotencoder.fit_transform(x[:,[3]]).toarray(), x,1)\n",
        "x = np.delete(x, 6, axis=1)\n",
        "x = x[:,[1,2,3,4,5]]"
      ],
      "metadata": {
        "id": "PE9KOefHQtmg"
      },
      "execution_count": null,
      "outputs": []
    },
    {
      "cell_type": "code",
      "source": [
        "# Splitting the dataset into the Training set and Test set\n",
        "from sklearn.model_selection import train_test_split\n",
        "x_train, x_test, y_train, y_test = train_test_split(x, y, test_size = 1/3, random_state=0)"
      ],
      "metadata": {
        "id": "8bE6Ip4lQvrY"
      },
      "execution_count": null,
      "outputs": []
    },
    {
      "cell_type": "code",
      "source": [
        "# Feature Scaling\n",
        "\"\"\"from sklearn.preprocessing import StandardScaler\n",
        "sc_X = StandardScaler() \n",
        "X_train = sc_X.fit_transform(X_train)\n",
        "X_test = sc_X.transform(X_test)\n",
        "sc_y = StandardScaler()\n",
        "y_train = sc_y.fit_transform(y_train)\"\"\""
      ],
      "metadata": {
        "id": "yRghecXLQyew"
      },
      "execution_count": null,
      "outputs": []
    },
    {
      "cell_type": "code",
      "source": [
        "# Fitting Simple Linear Regression to the Trainig Set\n",
        "from sklearn.linear_model import LinearRegression\n",
        "regressor = LinearRegression()\n",
        "\n",
        "reg = regressor.fit(x_train, y_train)"
      ],
      "metadata": {
        "id": "WVQlFy_XQ5Aw"
      },
      "execution_count": null,
      "outputs": []
    },
    {
      "cell_type": "code",
      "source": [
        "# Predictign the test set results\n",
        "\n",
        "y_pred = pd.DataFrame(regressor.predict(x_test))"
      ],
      "metadata": {
        "id": "uhOztbiTQ8JY"
      },
      "execution_count": null,
      "outputs": []
    },
    {
      "cell_type": "code",
      "source": [
        "# bilding a optimal model using backward elimination\n",
        "\n",
        "import statsmodels.regression.linear_model as sm\n",
        "#import statsmodels.api as sm\n",
        "x = np.append(np.ones((50,1)).astype(int), x,1)\n",
        "\n",
        "x_opt = np.array(x[:, [0, 1, 2, 3, 4, 5]], dtype=float)\n",
        "regressor_ols=sm.OLS(endog = y, exog = x_opt).fit()\n",
        "regressor_ols.summary()\n",
        "\n",
        "x_opt = np.array(x[:, [0, 1, 3, 4, 5]], dtype=float)\n",
        "regressor_ols=sm.OLS(endog = y, exog = x_opt).fit()\n",
        "regressor_ols.summary()\n",
        "\n",
        "x_opt = np.array(x[:, [0, 3, 4, 5]], dtype=float)\n",
        "regressor_ols=sm.OLS(endog = y, exog = x_opt).fit()\n",
        "regressor_ols.summary()\n",
        "\n",
        "\n",
        "x_opt = np.array(x[:, [0, 3, 5]], dtype=float)\n",
        "regressor_ols=sm.OLS(endog = y, exog = x_opt).fit()\n",
        "regressor_ols.summary()\n",
        "\n",
        "x_opt = np.array(x[:, [0, 3]], dtype=float)\n",
        "regressor_ols=sm.OLS(endog = y, exog = x_opt).fit()\n",
        "regressor_ols.summary()"
      ],
      "metadata": {
        "id": "o7mdHhrkQ-q4"
      },
      "execution_count": null,
      "outputs": []
    }
  ]
}