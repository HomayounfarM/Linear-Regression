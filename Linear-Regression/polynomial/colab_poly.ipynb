{
  "nbformat": 4,
  "nbformat_minor": 0,
  "metadata": {
    "colab": {
      "name": "Untitled1.ipynb",
      "private_outputs": true,
      "provenance": [],
      "authorship_tag": "ABX9TyPMr+WwIuwlHDv9hxCHjO1u",
      "include_colab_link": true
    },
    "kernelspec": {
      "name": "python3",
      "display_name": "Python 3"
    },
    "language_info": {
      "name": "python"
    }
  },
  "cells": [
    {
      "cell_type": "markdown",
      "metadata": {
        "id": "view-in-github",
        "colab_type": "text"
      },
      "source": [
        "<a href=\"https://colab.research.google.com/github/HomayounfarM/Linear-Regression/blob/main/Linear-Regression/polynomial/colab_poly.ipynb\" target=\"_parent\"><img src=\"https://colab.research.google.com/assets/colab-badge.svg\" alt=\"Open In Colab\"/></a>"
      ]
    },
    {
      "cell_type": "markdown",
      "source": [
        "https://github.com/HomayounfarM/Linear-Regression"
      ],
      "metadata": {
        "id": "aGfEjLy9B2vH"
      }
    },
    {
      "cell_type": "code",
      "execution_count": null,
      "metadata": {
        "id": "cV-zYF2KBzT_"
      },
      "outputs": [],
      "source": [
        "import ssl\n",
        "ssl._create_default_https_context = ssl._create_unverified_context\n",
        "import pandas as pd\n",
        "url = \"https://raw.githubusercontent.com/HomayounfarM/Linear-Regression/main/polynomial/Position_Salaries.csv\"\n",
        "dataset = pd.read_csv(url)"
      ]
    },
    {
      "cell_type": "code",
      "source": [
        "# Importing the libraries\n",
        "\n",
        "import numpy as np\n",
        "import pandas as pd\n",
        "import matplotlib.pyplot as plt"
      ],
      "metadata": {
        "id": "xhWYdrD0CFif"
      },
      "execution_count": null,
      "outputs": []
    },
    {
      "cell_type": "code",
      "source": [
        "# Importing the dataset\n",
        "# dataset = pd.read_csv('Position_Salaries.csv')\n",
        "X = dataset.iloc[:,1:2].values\n",
        "y = dataset.iloc[:,2].values"
      ],
      "metadata": {
        "id": "GDzJEOEcCMB_"
      },
      "execution_count": null,
      "outputs": []
    },
    {
      "cell_type": "code",
      "source": [
        "#Fitting linear regression to the dataset\n",
        "from sklearn.linear_model import LinearRegression\n",
        "lin_reg = LinearRegression()\n",
        "\n",
        "lin_reg.fit(X, y)\n",
        "\n",
        "import statsmodels.regression.linear_model as sm\n",
        "X_temp = np.append(np.ones((len(X),1)).astype(int), X,1)\n",
        "regressor_ols=sm.OLS(endog = y, exog = X_temp).fit()\n",
        "regressor_ols.summary()"
      ],
      "metadata": {
        "id": "NrGSkzZrCQzm"
      },
      "execution_count": null,
      "outputs": []
    },
    {
      "cell_type": "code",
      "source": [
        "# Fitting polynomial regression to the dataset\n",
        "from sklearn.preprocessing import PolynomialFeatures\n",
        "poly_reg = PolynomialFeatures(degree = 2)\n",
        "X_poly = poly_reg.fit_transform(X)\n",
        "lin_reg_2 = LinearRegression()\n",
        "lin_reg_2.fit(X_poly, y)"
      ],
      "metadata": {
        "id": "P9B2gq9lCW_O"
      },
      "execution_count": null,
      "outputs": []
    },
    {
      "cell_type": "code",
      "source": [
        "# Visualizing the linear regression results\n",
        "plt.scatter(X,y, color = 'red')\n",
        "plt.plot(X, lin_reg.predict(X), color = 'blue')\n",
        "plt.title('truth or bluff')\n",
        "plt.xlabel('position level')\n",
        "plt.ylabel('Salary')\n",
        "\n",
        "# Visualizing the poynomial regression results\n",
        "x_grid = np.arange(min(X), max(X), 0.1)\n",
        "x_grid = x_grid.reshape(len(x_grid),1)\n",
        "plt.plot(x_grid, lin_reg_2.predict(poly_reg.fit_transform(x_grid)), color = 'green')\n",
        "plt.title('truth or bluff')\n",
        "plt.xlabel('position level')\n",
        "plt.ylabel('Salary')\n",
        "\n",
        "plt.show()"
      ],
      "metadata": {
        "id": "Qi_wz2SyCZDX"
      },
      "execution_count": null,
      "outputs": []
    },
    {
      "cell_type": "code",
      "source": [
        "# Predicting a new result with linear regression\n",
        "sample = np.array(6.5)\n",
        "sample = sample.reshape(-1,1)\n",
        "\n",
        "lin_reg.predict(sample)\n",
        "\n",
        "# Predicting a new result with polynomial regression\n",
        "lin_reg_2.predict(poly_reg.fit_transform(sample))"
      ],
      "metadata": {
        "id": "owi2oyx2CfEe"
      },
      "execution_count": null,
      "outputs": []
    }
  ]
}